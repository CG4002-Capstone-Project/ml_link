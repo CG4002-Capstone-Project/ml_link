{
 "cells": [
  {
   "cell_type": "markdown",
   "metadata": {},
   "source": [
    "# Technoedge Quickstart"
   ]
  },
  {
   "cell_type": "code",
   "execution_count": 273,
   "metadata": {},
   "outputs": [],
   "source": [
    "import pynq\n",
    "from pynq import Overlay\n",
    "from time import time\n",
    "import numpy as np\n",
    "import matplotlib.pyplot as plt\n",
    "from tqdm import tqdm as tqdm\n",
    "import ctypes"
   ]
  },
  {
   "cell_type": "markdown",
   "metadata": {},
   "source": [
    "## Wrapper Class"
   ]
  },
  {
   "cell_type": "code",
   "execution_count": 274,
   "metadata": {},
   "outputs": [],
   "source": [
    "STATUS_REGISTER = 0x0\n",
    "\n",
    "DATA_ADDR = 512\n",
    "RESULT_ADDR = 74256\n",
    "\n",
    "FC1_WT_ADDR = 32768\n",
    "FC1_BIAS_ADDR = 65536\n",
    "\n",
    "FC2_WT_ADDR = 69632\n",
    "FC2_BIAS_ADDR = 73728\n",
    "\n",
    "FC3_WT_ADDR = 73984\n",
    "FC3_BIAS_ADDR = 74240\n",
    "\n",
    "FC1_IN = 84\n",
    "FC1_OUT = 64\n",
    "FC2_OUT = 16\n",
    "FC3_OUT = 3\n",
    "\n",
    "FIXED_FACTOR = 2**24\n",
    "\n",
    "def to_int_arr(arr):\n",
    "    return np.array([xi if xi >= 0 else xi + 2**32 for xi in arr]).astype(int)\n",
    "        \n",
    "class TechnoEdge:\n",
    "    def __init__(self, filename):\n",
    "        self.overlay = Overlay(filename)\n",
    "        self.techno = self.overlay.technoedge_0\n",
    "        \n",
    "        self.write_arr = self.techno.mmio.array[DATA_ADDR // 4:DATA_ADDR // 4 + FC1_IN]\n",
    "        self.read_arr = tc.techno.mmio.array[RESULT_ADDR // 4: RESULT_ADDR // 4 + FC3_OUT]\n",
    "    \n",
    "    def write(self, data):\n",
    "        self.write_arr[:] = to_int_arr(data)\n",
    "        \n",
    "    def run(self):\n",
    "        self.techno.write(STATUS_REGISTER, 1)\n",
    "        while self.techno.read(STATUS_REGISTER) & 0x2 == 0:\n",
    "            pass\n",
    "        \n",
    "    def run_benchmark(self, reps = 1000):\n",
    "        data = to_int_arr([0] * FC1_IN)\n",
    "        \n",
    "        start = time()\n",
    "        for _ in range(reps):\n",
    "            self.write_arr[:] = data\n",
    "            self.run()\n",
    "            _ = self.read_arr\n",
    "        end = time()\n",
    "\n",
    "        return (end - start)/reps*1000000\n",
    "    \n",
    "    def get_result(self):\n",
    "        return [ctypes.c_int(x).value / FIXED_FACTOR for x in self.read_arr]\n",
    "    \n",
    "    def put_weights(self, wts):\n",
    "        #\n",
    "        # FC1 weight and bias\n",
    "        #\n",
    "        arr = self.techno.mmio.array[FC1_WT_ADDR // 4:FC1_WT_ADDR // 4 + len(wts['fc1_wt'])]\n",
    "        arr[:] = to_int_arr(wts['fc1_wt'])\n",
    "        arr = self.techno.mmio.array[FC1_BIAS_ADDR // 4:FC1_BIAS_ADDR // 4 + len(wts['fc1_bias'])]\n",
    "        arr[:] = to_int_arr(wts['fc1_bias'])\n",
    "        \n",
    "        #\n",
    "        # FC2 weight and bias\n",
    "        #\n",
    "        arr = self.techno.mmio.array[FC2_WT_ADDR // 4:FC2_WT_ADDR // 4 + len(wts['fc2_wt'])]\n",
    "        arr[:] = to_int_arr(wts['fc2_wt'])\n",
    "        arr = self.techno.mmio.array[FC2_BIAS_ADDR // 4:FC2_BIAS_ADDR // 4 + len(wts['fc2_bias'])]\n",
    "        arr[:] = to_int_arr(wts['fc2_bias'])\n",
    "        \n",
    "        #\n",
    "        # FC3 weight and bias\n",
    "        #\n",
    "        arr = self.techno.mmio.array[FC3_WT_ADDR // 4:FC3_WT_ADDR // 4 + len(wts['fc3_wt'])]\n",
    "        arr[:] = to_int_arr(wts['fc3_wt'])\n",
    "        arr = self.techno.mmio.array[FC3_BIAS_ADDR // 4:FC3_BIAS_ADDR // 4 + len(wts['fc3_bias'])]\n",
    "        arr[:] = to_int_arr(wts['fc3_bias'])"
   ]
  },
  {
   "cell_type": "markdown",
   "metadata": {},
   "source": [
    "## Power Management (CPU)"
   ]
  },
  {
   "cell_type": "code",
   "execution_count": 8,
   "metadata": {},
   "outputs": [],
   "source": [
    "def set_cpu_freq_mhz(freq):\n",
    "    if freq == 300:\n",
    "        freq = 200000\n",
    "    if freq == 400:\n",
    "        freq = 350000\n",
    "    if freq == 600:\n",
    "        freq = 400000\n",
    "    if freq == 1200:\n",
    "        freq = 600000\n",
    "    !echo $freq > /sys/devices/system/cpu/cpu0/cpufreq/scaling_setspeed\n",
    "    !cat  /sys/devices/system/cpu/cpu0/cpufreq/cpuinfo_cur_freq\n",
    "    !echo $freq > /sys/devices/system/cpu/cpu1/cpufreq/scaling_setspeed\n",
    "    !cat  /sys/devices/system/cpu/cpu1/cpufreq/cpuinfo_cur_freq"
   ]
  },
  {
   "cell_type": "code",
   "execution_count": 9,
   "metadata": {},
   "outputs": [],
   "source": [
    "tc = TechnoEdge('/home/xilinx/jupyter_notebooks/frontier/capstone_full.bit')\n",
    "rails = pynq.get_rails()"
   ]
  },
  {
   "cell_type": "code",
   "execution_count": 18,
   "metadata": {},
   "outputs": [
    {
     "name": "stdout",
     "output_type": "stream",
     "text": [
      "299999\n",
      "299999\n",
      "399999\n",
      "399999\n",
      "599999\n",
      "599999\n",
      "1199998\n",
      "1199998\n"
     ]
    },
    {
     "data": {
      "text/plain": [
       "Text(0,0.5,'Average Power Consumption (W)')"
      ]
     },
     "execution_count": 18,
     "metadata": {},
     "output_type": "execute_result"
    },
    {
     "data": {
      "text/plain": [
       "<matplotlib.figure.Figure at 0x7f96e98b00>"
      ]
     },
     "metadata": {},
     "output_type": "display_data"
    },
    {
     "data": {
      "image/png": "[encoded data removed]",
      "text/plain": [
       "<matplotlib.figure.Figure at 0x7fa09c5eb8>"
      ]
     },
     "metadata": {},
     "output_type": "display_data"
    }
   ],
   "source": [
    "powers = []\n",
    "times = []\n",
    "\n",
    "for freq in [300, 400, 600, 1200]:\n",
    "    set_cpu_freq_mhz(freq)\n",
    "    recorder = pynq.DataRecorder(rails['PSINT_FP'].power)\n",
    "    with recorder.record(0.2):\n",
    "        duration = tc.run_benchmark(10000)\n",
    "    power = recorder.frame['PSINT_FP_power'].mean()\n",
    "    times.append(duration)\n",
    "    powers.append(power)\n",
    "\n",
    "plt.clf()\n",
    "plt.figure(figsize=(20,10))\n",
    "plt.scatter(times, powers)\n",
    "plt.xlabel(\"Prediction time (us)\")\n",
    "plt.ylabel(\"Average Power Consumption (W)\")"
   ]
  },
  {
   "cell_type": "markdown",
   "metadata": {},
   "source": [
    "## Power Management (FPGA)"
   ]
  },
  {
   "cell_type": "code",
   "execution_count": 19,
   "metadata": {},
   "outputs": [],
   "source": [
    "def set_fpga_freq(freq):\n",
    "    pynq.ps.Clocks.fclk0_mhz = freq\n",
    "    pynq.ps.Clocks.fclk1_mhz = freq\n",
    "    pynq.ps.Clocks.fclk2_mhz = freq\n",
    "    pynq.ps.Clocks.fclk3_mhz = freq"
   ]
  },
  {
   "cell_type": "code",
   "execution_count": 20,
   "metadata": {},
   "outputs": [
    {
     "name": "stderr",
     "output_type": "stream",
     "text": [
      "/usr/local/lib/python3.6/dist-packages/pynq/ps.py:464: UserWarning: Setting frequency to the closest possible value 40.54014MHz.\n",
      "  round(freq_high / q0, 5)))\n",
      "/usr/local/lib/python3.6/dist-packages/pynq/ps.py:464: UserWarning: Setting frequency to the closest possible value 71.42786MHz.\n",
      "  round(freq_high / q0, 5)))\n",
      "/usr/local/lib/python3.6/dist-packages/pynq/ps.py:464: UserWarning: Setting frequency to the closest possible value 78.94658MHz.\n",
      "  round(freq_high / q0, 5)))\n",
      "/usr/local/lib/python3.6/dist-packages/pynq/ps.py:464: UserWarning: Setting frequency to the closest possible value 88.23441MHz.\n",
      "  round(freq_high / q0, 5)))\n"
     ]
    },
    {
     "data": {
      "text/plain": [
       "<matplotlib.figure.Figure at 0x7f9665c940>"
      ]
     },
     "metadata": {},
     "output_type": "display_data"
    },
    {
     "data": {
      "image/png": "[encoded data removed]",
      "text/plain": [
       "<matplotlib.figure.Figure at 0x7f9665c2e8>"
      ]
     },
     "metadata": {},
     "output_type": "display_data"
    }
   ],
   "source": [
    "iterations = 10000\n",
    "powers = []\n",
    "times = []\n",
    "freqs = []\n",
    "\n",
    "for freq in range(10, 110, 10): # rails.keys():\n",
    "    set_fpga_freq(freq)\n",
    "    freqs.append(freq)\n",
    "    rail = 'INT'\n",
    "    \n",
    "    recorder = pynq.DataRecorder(rails[rail].power)\n",
    "    with recorder.record(0.2):\n",
    "        pred_time = tc.run_benchmark(iterations)\n",
    "    \n",
    "    power = recorder.frame[recorder.frame.columns[1]].mean()\n",
    "    times.append(pred_time)\n",
    "    powers.append(power)\n",
    "\n",
    "\n",
    "plt.clf()\n",
    "plt.figure(figsize=(20,10))\n",
    "plt.scatter(times, powers)\n",
    "plt.xlabel(\"Prediction time (us)\")\n",
    "plt.ylabel(\"Average Power Consumption (W)\")\n",
    "\n",
    "for i in range(0, len(times)):\n",
    "    plt.text(times[i], powers[i], freqs[i])"
   ]
  },
  {
   "cell_type": "markdown",
   "metadata": {},
   "source": [
    "## Examples"
   ]
  },
  {
   "cell_type": "code",
   "execution_count": 275,
   "metadata": {
    "scrolled": false
   },
   "outputs": [],
   "source": [
    "tc = TechnoEdge('/home/xilinx/jupyter_notebooks/frontier/capstone_full.bit')"
   ]
  },
  {
   "cell_type": "code",
   "execution_count": 276,
   "metadata": {},
   "outputs": [],
   "source": [
    "# load weights from file\n",
    "f = open(\"wts\", \"rb\")\n",
    "wts = np.load(f)\n",
    "tc.put_weights(wts)\n",
    "f.close()"
   ]
  },
  {
   "cell_type": "code",
   "execution_count": 277,
   "metadata": {},
   "outputs": [
    {
     "name": "stdout",
     "output_type": "stream",
     "text": [
      "It takes 111us per inference on average.\n"
     ]
    }
   ],
   "source": [
    "print(\"It takes %dus per inference on average.\" % tc.run_benchmark(1000))  "
   ]
  },
  {
   "cell_type": "code",
   "execution_count": 278,
   "metadata": {},
   "outputs": [
    {
     "name": "stdout",
     "output_type": "stream",
     "text": [
      "Result is [-0.04226440191268921, -0.04347771406173706, -0.024767398834228516]\n"
     ]
    }
   ],
   "source": [
    "f = open(\"testv\", \"rb\")\n",
    "data = np.load(f)['testv']\n",
    "f.close()\n",
    "\n",
    "tc.write(data)\n",
    "tc.run()\n",
    "\n",
    "result = tc.get_result()\n",
    "print(\"Result is\", result)"
   ]
  }
 ],
 "metadata": {
  "kernelspec": {
   "display_name": "Python 3",
   "language": "python",
   "name": "python3"
  },
  "language_info": {
   "codemirror_mode": {
    "name": "ipython",
    "version": 3
   },
   "file_extension": ".py",
   "mimetype": "text/x-python",
   "name": "python",
   "nbconvert_exporter": "python",
   "pygments_lexer": "ipython3",
   "version": "3.6.5"
  }
 },
 "nbformat": 4,
 "nbformat_minor": 2
}
